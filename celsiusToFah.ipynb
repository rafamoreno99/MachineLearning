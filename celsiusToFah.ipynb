{
  "nbformat": 4,
  "nbformat_minor": 0,
  "metadata": {
    "colab": {
      "provenance": [],
      "authorship_tag": "ABX9TyPaxQUanucQIy+PTYpikQXl",
      "include_colab_link": true
    },
    "kernelspec": {
      "name": "python3",
      "display_name": "Python 3"
    },
    "language_info": {
      "name": "python"
    }
  },
  "cells": [
    {
      "cell_type": "markdown",
      "metadata": {
        "id": "view-in-github",
        "colab_type": "text"
      },
      "source": [
        "<a href=\"https://colab.research.google.com/github/rafamoreno99/MachineLearning/blob/main/celsiusToFah.ipynb\" target=\"_parent\"><img src=\"https://colab.research.google.com/assets/colab-badge.svg\" alt=\"Open In Colab\"/></a>"
      ]
    },
    {
      "cell_type": "code",
      "execution_count": 60,
      "metadata": {
        "id": "8_yuPZjZVFNa"
      },
      "outputs": [],
      "source": [
        "import tensorflow as tf\n",
        "import numpy as np"
      ]
    },
    {
      "cell_type": "code",
      "source": [
        "celsius = np.array([-40,-10,0,8,15,22,38,20,220, 180,100, 40], dtype=float)\n",
        "fahrenheit = np.array([-40,14,32,46,59,72,100,68, 430, 360, 212, 104],dtype=float)"
      ],
      "metadata": {
        "id": "TlNqghScVNNe"
      },
      "execution_count": 71,
      "outputs": []
    },
    {
      "cell_type": "code",
      "source": [
        "capa = tf.keras.layers.Dense(units = 1, input_shape=[1])\n",
        "modelo = tf.keras.Sequential([capa])\n",
        "\n"
      ],
      "metadata": {
        "id": "AfzTThj9VaG1"
      },
      "execution_count": 72,
      "outputs": []
    },
    {
      "cell_type": "code",
      "source": [
        "modelo.compile(\n",
        "    optimizer = tf.keras.optimizers.Adam(0.1),\n",
        "    loss = 'mean_squared_error'\n",
        ")"
      ],
      "metadata": {
        "id": "G6UW0HsCV5yW"
      },
      "execution_count": 73,
      "outputs": []
    },
    {
      "cell_type": "code",
      "source": [
        "print(\"Comenzamos el entrenamiento\")\n",
        "historial = modelo.fit(celsius, fahrenheit, epochs = 1400, verbose = False)\n",
        "print(\"Finalizamos\")"
      ],
      "metadata": {
        "colab": {
          "base_uri": "https://localhost:8080/"
        },
        "id": "m5Zsz4D0WRk0",
        "outputId": "ee23e10c-3eae-4b14-d8ad-77bd9f03259f"
      },
      "execution_count": 74,
      "outputs": [
        {
          "output_type": "stream",
          "name": "stdout",
          "text": [
            "Comenzamos el entrenamiento\n",
            "Finalizamos\n"
          ]
        }
      ]
    },
    {
      "cell_type": "code",
      "source": [
        "import matplotlib.pyplot as pit\n",
        "pit.xlabel(\"VUELTAS\")\n",
        "pit.ylabel(\"MAGNITUD DE PERDIDA\")\n",
        "pit.plot(historial.history[\"loss\"])"
      ],
      "metadata": {
        "colab": {
          "base_uri": "https://localhost:8080/",
          "height": 296
        },
        "id": "vyiHLFS6W7d1",
        "outputId": "5e050d78-e9d5-4e53-c8b8-3425da7aeee6"
      },
      "execution_count": 75,
      "outputs": [
        {
          "output_type": "execute_result",
          "data": {
            "text/plain": [
              "[<matplotlib.lines.Line2D at 0x7f3b7687ff10>]"
            ]
          },
          "metadata": {},
          "execution_count": 75
        },
        {
          "output_type": "display_data",
          "data": {
            "text/plain": [
              "<Figure size 432x288 with 1 Axes>"
            ],
            "image/png": "[encoded data removed]"
          },
          "metadata": {
            "needs_background": "light"
          }
        }
      ]
    },
    {
      "cell_type": "code",
      "source": [],
      "metadata": {
        "id": "FNLh0c1cYLKD"
      },
      "execution_count": null,
      "outputs": []
    },
    {
      "cell_type": "code",
      "source": [
        "print(\"Hagamos la predicción\")\n",
        "celsius = 40\n",
        "resultado = modelo.predict([celsius])\n",
        "print(\"El resultado es \" + str(resultado) + \" fahrenheit\")"
      ],
      "metadata": {
        "colab": {
          "base_uri": "https://localhost:8080/"
        },
        "id": "r7oYitC0YLv1",
        "outputId": "099c3ef6-611a-40f3-fad3-9aef7dc202db"
      },
      "execution_count": 76,
      "outputs": [
        {
          "output_type": "stream",
          "name": "stdout",
          "text": [
            "Hagamos la predicción\n",
            "1/1 [==============================] - 0s 52ms/step\n",
            "El resultado es [[104.244644]] fahrenheit\n"
          ]
        }
      ]
    },
    {
      "cell_type": "code",
      "source": [
        "print(\"Variables internas\")\n",
        "print(capa.get_weights())"
      ],
      "metadata": {
        "colab": {
          "base_uri": "https://localhost:8080/"
        },
        "id": "Sg59juWiYz6s",
        "outputId": "c9356808-d6f8-47f7-e3be-ff526dae3c12"
      },
      "execution_count": 77,
      "outputs": [
        {
          "output_type": "stream",
          "name": "stdout",
          "text": [
            "Variables internas\n",
            "[array([[1.813782]], dtype=float32), array([31.693369], dtype=float32)]\n"
          ]
        }
      ]
    }
  ]
}